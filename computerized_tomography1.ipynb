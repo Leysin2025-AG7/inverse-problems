{
 "cells": [
  {
   "cell_type": "code",
   "execution_count": null,
   "id": "51842f1a",
   "metadata": {},
   "outputs": [],
   "source": [
    "import skimage\n",
    "from skimage.transform import resize\n",
    "import numpy as np\n",
    "import ct_utils \n",
    "import matplotlib.pyplot as plt\n",
    "import ipywidgets as widgets\n",
    "from ipywidgets import interactive\n",
    "from IPython.display import display\n",
    "\n",
    "def todo():\n",
    "    raise NotImplementedError(\"In dieser Zelle gibt es noch mindestens ein TODO!\")"
   ]
  },
  {
   "cell_type": "markdown",
   "id": "f74423e4",
   "metadata": {},
   "source": [
    "# CT-Bildgebung\n",
    "Die folgenden Zellen visualisieren, wie Daten in Computertomographen gemessen werden."
   ]
  },
  {
   "cell_type": "code",
   "execution_count": null,
   "id": "e7a3a5f2",
   "metadata": {},
   "outputs": [],
   "source": [
    "# Definiere eine ground truth (gt) - ein \"Phantom\"-Bild, siehe [https://de.wikipedia.org/wiki/Shepp-Logan-Phantom] (ctrl/cmd + click)\n",
    "x_gt = skimage.img_as_float(skimage.data.shepp_logan_phantom())\n",
    "\n",
    "# Definiere den Vorwärtsoperator - bei CT ist das die Radontransformation\n",
    "theta = np.linspace(0,180, endpoint = False, num=400)\n",
    "A = ct_utils.Radon(theta)\n",
    "\n",
    "# Clean data\n",
    "y_clean =  A(x_gt)\n",
    "\n",
    "fig, ax = plt.subplots(1,2,figsize=(10,5))\n",
    "ax[0].imshow(x_gt, cmap='gray')\n",
    "ax[0].axis('off')\n",
    "ax[0].set_title(r'Ground Truth $x$')\n",
    "\n",
    "ax[1].imshow(y_clean, cmap='gray')\n",
    "ax[1].axis('off')\n",
    "ax[1].set_title(r'Clean data $y_{\\text{clean}} = Ax$');"
   ]
  },
  {
   "cell_type": "code",
   "execution_count": null,
   "id": "4a7cb381",
   "metadata": {},
   "outputs": [],
   "source": [
    "# Visualize how the sinogram is created by rotation of specimen/detector\n",
    "ray_pos = np.arange(20, 400, step=40)\n",
    "\n",
    "def plot_at_angle(angle):\n",
    "    deg = 180/400*angle\n",
    "    _, axs = plt.subplots(1, 3, figsize=(20,5))\n",
    "    rot = skimage.transform.rotate(x_gt, deg)\n",
    "    rot[:,ray_pos] = 0.5\n",
    "    rot[:,ray_pos+1] = 1\n",
    "    rot[:,ray_pos+2] = 0.5\n",
    "\n",
    "    # plot the rotated phantom\n",
    "    axs[0].imshow(rot, cmap = 'gray')\n",
    "    axs[0].tick_params(bottom = False, left = False)\n",
    "    axs[0].set_xticks([])\n",
    "    axs[0].set_yticks([])\n",
    "    axs[0].set_title('Source')\n",
    "    axs[0].set_xlabel('Detector')\n",
    "\n",
    "    # Plot the data slice at the current angle\n",
    "    axs[1].plot(np.arange(400), y_clean[:,angle])\n",
    "    axs[1].set_ylim([0,0.4])\n",
    "    axs[1].set_title('Measurement at '+str(deg)+'$^{\\circ}$')\n",
    "    axs[1].set_xlabel('position')\n",
    "    axs[1].set_ylabel('intensity decay')\n",
    "\n",
    "    # Plot the whole acquired data up to current angle\n",
    "    axs[2].imshow(y_clean[:,:angle+1], cmap = 'gray')\n",
    "    axs[2].set_xlim([0,400])\n",
    "    axs[2].set_xticks([0,100,200,300,400], ['$0^{\\circ}$', '$45^{\\circ}$', '$90^{\\circ}$', '$135^{\\circ}$', '$180^{\\circ}$'])\n",
    "    axs[2].set_xlabel('angle')\n",
    "    axs[2].set_ylabel('position')\n",
    "\n",
    "slider = widgets.IntSlider(min = 0, max = 399, step = 10, value = 0, continuous_update = True)\n",
    "interactive_plot = interactive(plot_at_angle, angle = slider)\n",
    "display(interactive_plot)"
   ]
  },
  {
   "cell_type": "markdown",
   "id": "2ccf95af",
   "metadata": {},
   "source": [
    "# Rekonstruktion aus unvollständigen Daten\n",
    "\n",
    "Am Differentiations-Beispiel haben wir bereits gesehen, dass Regularisierung notwendig ist, um Instabilitäten/Fehleramplikation entgegenzuwirken. Die anderen beiden Kriterien von Gutgestelltheit sind aus theoretischer Sicht leichter zu garantieren, in der Praxis bereitet aber z.B. auch die Unterbestimmtheit Probleme.\n",
    "Die folgende Zelle zeigt, dass selbst eine Rekonstruktion aus fehlerfreien, aber unvollständigen Daten im CT problematisch sein kann."
   ]
  },
  {
   "cell_type": "code",
   "execution_count": null,
   "id": "d4ac2b11",
   "metadata": {},
   "outputs": [],
   "source": [
    "def plot_lact(idx):\n",
    "    angle = 399-idx\n",
    "    deg = 180/400*angle\n",
    "    lact_sino = y_clean[:,:angle+1]\n",
    "    R_lact = ct_utils.Radon(theta[:angle+1])\n",
    "    reco = R_lact.inv(lact_sino)\n",
    "    _, axs = plt.subplots(1, 2, figsize=(10,5))\n",
    "\n",
    "    # Incomplete Data plot\n",
    "    axs[0].imshow(lact_sino, cmap='gray')\n",
    "    axs[0].set_xlim([0,400])\n",
    "    axs[0].set_xticks([0,100,200,300,400], ['$0^{\\circ}$', '$45^{\\circ}$', '$90^{\\circ}$', '$135^{\\circ}$', '$180^{\\circ}$'])\n",
    "    axs[0].set_xlabel('angle')\n",
    "    axs[0].set_ylabel('position')\n",
    "    axs[0].set_title('Sinogram of a scan of '+str(deg)+ ' degrees')\n",
    "\n",
    "    # Image reconstruction plot\n",
    "    axs[1].imshow(reco, cmap='gray')\n",
    "    axs[1].axis('off')\n",
    "    axs[1].set_title('Reconstruction')\n",
    "\n",
    "slider2 = widgets.IntSlider(min = 0, max = 399, step = 30, value = 0, continuous_update = True)\n",
    "interactive_plot2 = interactive(plot_lact, idx = slider2)\n",
    "display(interactive_plot2)"
   ]
  },
  {
   "cell_type": "markdown",
   "id": "9f41eeb2",
   "metadata": {},
   "source": [
    "# Fehler von naiver CT-Rekonstruktion in verschiedenen Dimensionen"
   ]
  },
  {
   "cell_type": "code",
   "execution_count": null,
   "id": "44fa2b77",
   "metadata": {},
   "outputs": [],
   "source": [
    "dims = [200, 300, 400, 500, 600, 700, 800]\n",
    "\n",
    "# Für die Visualisierung speichern wir die Rekonstruktionen und Fehler bei verschiedenen Auflösungen\n",
    "y_noisy_store = [] # liste für noisy Sinogramme\n",
    "x_rec_store = [] # Liste für Rekonstruktionen\n",
    "err_rec_store = np.zeros(len(dims)) # Liste für Rekonstruktionsfehler\n",
    "\n",
    "for i, dim in enumerate(dims): # Iteration über verschiedene Problemdimensionen / Bildauflösungen\n",
    "    x_resized = todo() # Verändere hier die Größe der ground truth zu (dim, dim)\n",
    "\n",
    "    theta_resized = np.linspace(0,180, endpoint = False, num=dim)\n",
    "    R_res = ct_utils.Radon(theta_resized)\n",
    "    \n",
    "    epsilon = todo()\n",
    "    y_noisy = todo()\n",
    "    x_rec = todo() # Hinweis: ct_utils.Radon hat eine Methode .inv zum Anwenden einer (bereits leicht regularisierenden) Inversen\n",
    "\n",
    "    # store results\n",
    "    y_noisy_store.append(y_noisy)\n",
    "    x_rec_store.append(x_rec)\n",
    "    err_rec_store[i] = np.linalg.norm(x_rec - x_resized)/dim\n"
   ]
  },
  {
   "cell_type": "code",
   "execution_count": null,
   "id": "96f4df1e",
   "metadata": {},
   "outputs": [],
   "source": [
    "def plot_resolutions(idx):\n",
    "    _, axs = plt.subplots(1, 3, figsize=(20,5))\n",
    "\n",
    "    axs[0].imshow(y_noisy_store[idx], cmap='gray', vmin=0, vmax=0.5)\n",
    "    axs[0].axis('off')\n",
    "    axs[0].set_title('Noisy Sinogram')\n",
    "\n",
    "    axs[1].imshow(x_rec_store[idx], cmap='gray', vmin=0, vmax=1)\n",
    "    axs[1].axis('off')\n",
    "    axs[1].set_title('Reconstructed Phantom')\n",
    "\n",
    "    axs[2].plot(dims[:idx+1], err_rec_store[:idx+1], alpha=0.9)\n",
    "    axs[2].scatter(dims[idx], err_rec_store[idx], label='CT')\n",
    "    axs[2].set_title('Per-Pixel Error')\n",
    "    axs[2].set_xlabel('Dimension')\n",
    "    axs[2].set_xlim([180,820])\n",
    "    axs[2].set_xticks(dims)\n",
    "    axs[2].set_ylim([0,1])\n",
    "    axs[2].legend(loc='upper left')\n",
    "\n",
    "    plt.suptitle('Resolution '+str(dims[idx]) + r'$\\times$' + str(dims[idx]))\n",
    "\n",
    "\n",
    "slider3 = widgets.IntSlider(min = 0, max = len(dims)-1, step = 1, value = 0, continuous_update = True)\n",
    "interactive_plot3 = interactive(plot_resolutions, idx = slider3)\n",
    "display(interactive_plot3)"
   ]
  },
  {
   "cell_type": "code",
   "execution_count": null,
   "id": "eeeff8f3",
   "metadata": {},
   "outputs": [],
   "source": []
  }
 ],
 "metadata": {
  "kernelspec": {
   "display_name": "akademie",
   "language": "python",
   "name": "python3"
  },
  "language_info": {
   "codemirror_mode": {
    "name": "ipython",
    "version": 3
   },
   "file_extension": ".py",
   "mimetype": "text/x-python",
   "name": "python",
   "nbconvert_exporter": "python",
   "pygments_lexer": "ipython3",
   "version": "3.10.18"
  }
 },
 "nbformat": 4,
 "nbformat_minor": 5
}
